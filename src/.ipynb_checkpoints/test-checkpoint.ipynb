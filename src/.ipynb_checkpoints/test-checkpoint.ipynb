{
 "cells": [
  {
   "cell_type": "code",
   "execution_count": null,
   "id": "1ea93090",
   "metadata": {},
   "outputs": [],
   "source": [
    "%load_ext autoreload\n",
    "%autoreload 2"
   ]
  },
  {
   "cell_type": "code",
   "execution_count": null,
   "id": "1b208550",
   "metadata": {},
   "outputs": [],
   "source": [
    "import lss\n",
    "import lss_const as lssc\n"
   ]
  },
  {
   "cell_type": "code",
   "execution_count": null,
   "id": "49d2448c",
   "metadata": {},
   "outputs": [],
   "source": [
    "CST_LSS_Port = \"COM5\"  # For windows platforms\n",
    "CST_LSS_Baud = lssc.LSS_DefaultBaud\n"
   ]
  },
  {
   "cell_type": "code",
   "execution_count": null,
   "id": "15225cfa",
   "metadata": {
    "scrolled": false
   },
   "outputs": [],
   "source": [
    "lss.initBus(CST_LSS_Port, CST_LSS_Baud)\n",
    "\n",
    "# Create an LSS object\n",
    "myLSS = lss.LSS(0)\n"
   ]
  },
  {
   "cell_type": "code",
   "execution_count": null,
   "id": "07bfec48",
   "metadata": {},
   "outputs": [],
   "source": [
    "import time\n",
    "while 1:\n",
    "    # Get the values from LSS\n",
    "    print(\"\\r\\nQuerying LSS...\")\n",
    "    pos = myLSS.getPosition()\n",
    "    rpm = myLSS.getSpeedRPM()\n",
    "    curr = myLSS.getCurrent()\n",
    "    volt = myLSS.getVoltage()\n",
    "    temp = myLSS.getTemperature()\n",
    "\n",
    "    # Display the values in terminal\n",
    "    print(\"\\r\\n---- Telemetry ----\")\n",
    "    print(\"Position  (1/10 deg) = \" + str(pos));\n",
    "    print(\"Speed          (rpm) = \" + str(rpm));\n",
    "    print(\"Curent          (mA) = \" + str(curr));\n",
    "    print(\"Voltage         (mV) = \" + str(volt));\n",
    "    print(\"Temperature (1/10 C) = \" + str(temp));\n",
    "\n",
    "    # Wait 1 second\n",
    "    time.sleep(1)\n"
   ]
  },
  {
   "cell_type": "code",
   "execution_count": null,
   "id": "15788708",
   "metadata": {},
   "outputs": [],
   "source": []
  }
 ],
 "metadata": {
  "jupytext": {
   "formats": "ipynb,py"
  },
  "kernelspec": {
   "display_name": "Python 3",
   "language": "python",
   "name": "python3"
  },
  "language_info": {
   "codemirror_mode": {
    "name": "ipython",
    "version": 3
   },
   "file_extension": ".py",
   "mimetype": "text/x-python",
   "name": "python",
   "nbconvert_exporter": "python",
   "pygments_lexer": "ipython3",
   "version": "3.8.8"
  }
 },
 "nbformat": 4,
 "nbformat_minor": 5
}
