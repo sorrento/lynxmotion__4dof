{
 "cells": [
  {
   "cell_type": "code",
   "execution_count": 4,
   "id": "1ea93090",
   "metadata": {},
   "outputs": [
    {
     "name": "stdout",
     "output_type": "stream",
     "text": [
      "The autoreload extension is already loaded. To reload it, use:\n",
      "  %reload_ext autoreload\n"
     ]
    }
   ],
   "source": [
    "%load_ext autoreload\n",
    "%autoreload 2"
   ]
  },
  {
   "cell_type": "code",
   "execution_count": 7,
   "id": "1b208550",
   "metadata": {},
   "outputs": [],
   "source": [
    "import lss\n",
    "import lss_const as lssc\n",
    "import time\n",
    "\n",
    "from utils import get_status"
   ]
  },
  {
   "cell_type": "code",
   "execution_count": 8,
   "id": "15225cfa",
   "metadata": {
    "scrolled": false
   },
   "outputs": [],
   "source": [
    "CST_LSS_Port = \"COM5\"  # Use the app LSS Flowarm that makes automatic scannid\n",
    "CST_LSS_Baud = lssc.LSS_DefaultBaud"
   ]
  },
  {
   "cell_type": "code",
   "execution_count": 72,
   "id": "07bfec48",
   "metadata": {
    "scrolled": true
   },
   "outputs": [],
   "source": [
    "lss.initBus(CST_LSS_Port, CST_LSS_Baud)"
   ]
  },
  {
   "cell_type": "code",
   "execution_count": 73,
   "id": "03479e3c",
   "metadata": {},
   "outputs": [],
   "source": [
    "l_base = lss.LSS(1)\n",
    "l_hombro = lss.LSS(2)\n",
    "l_codo = lss.LSS(3)\n",
    "l_muneca = lss.LSS(4)\n",
    "l_mano = lss.LSS(5)"
   ]
  },
  {
   "cell_type": "code",
   "execution_count": 11,
   "id": "1d38a0b6",
   "metadata": {},
   "outputs": [
    {
     "data": {
      "text/plain": [
       "True"
      ]
     },
     "execution_count": 11,
     "metadata": {},
     "output_type": "execute_result"
    }
   ],
   "source": [
    "l_base.setColorLED(lss_const.LSS_LED_Red)\n",
    "l_hombro.setColorLED(lss_const.LSS_LED_Blue)\n",
    "l_codo.setColorLED(lss_const.LSS_LED_Green)\n",
    "l_muneca.setColorLED(lss_const.LSS_LED_White)\n",
    "l_mano.setColorLED(lss_const.LSS_LED_Cyan)"
   ]
  },
  {
   "cell_type": "code",
   "execution_count": 12,
   "id": "b2c161f0",
   "metadata": {
    "scrolled": true
   },
   "outputs": [
    {
     "name": "stdout",
     "output_type": "stream",
     "text": [
      "\n",
      "Querying LSS...\n",
      "\n",
      "---- Telemetry ----\n",
      "Position  (1/10 deg) = -100\n",
      "Speed          (rpm) = 0\n",
      "Curent          (mA) = 121\n",
      "Voltage         (mV) = 12056\n",
      "Temperature (1/10 C) = 483\n",
      "\n",
      "Querying LSS...\n",
      "\n",
      "---- Telemetry ----\n",
      "Position  (1/10 deg) = -101\n",
      "Speed          (rpm) = 1\n",
      "Curent          (mA) = 81\n",
      "Voltage         (mV) = 12083\n",
      "Temperature (1/10 C) = 483\n",
      "\n",
      "Querying LSS...\n",
      "\n",
      "---- Telemetry ----\n",
      "Position  (1/10 deg) = -101\n",
      "Speed          (rpm) = 0\n",
      "Curent          (mA) = 163\n",
      "Voltage         (mV) = 12105\n",
      "Temperature (1/10 C) = 483\n",
      "\n",
      "Querying LSS...\n",
      "\n",
      "---- Telemetry ----\n",
      "Position  (1/10 deg) = -100\n",
      "Speed          (rpm) = 0\n",
      "Curent          (mA) = 144\n",
      "Voltage         (mV) = 12090\n",
      "Temperature (1/10 C) = 483\n",
      "\n",
      "Querying LSS...\n",
      "\n",
      "---- Telemetry ----\n",
      "Position  (1/10 deg) = -100\n",
      "Speed          (rpm) = 1\n",
      "Curent          (mA) = 142\n",
      "Voltage         (mV) = 12088\n",
      "Temperature (1/10 C) = 483\n",
      "\n",
      "Querying LSS...\n",
      "\n",
      "---- Telemetry ----\n",
      "Position  (1/10 deg) = -100\n",
      "Speed          (rpm) = 0\n",
      "Curent          (mA) = 157\n",
      "Voltage         (mV) = 12103\n",
      "Temperature (1/10 C) = 483\n",
      "\n",
      "Querying LSS...\n",
      "\n",
      "---- Telemetry ----\n",
      "Position  (1/10 deg) = -100\n",
      "Speed          (rpm) = 0\n",
      "Curent          (mA) = 144\n",
      "Voltage         (mV) = 12102\n",
      "Temperature (1/10 C) = 483\n",
      "\n",
      "Querying LSS...\n",
      "\n",
      "---- Telemetry ----\n",
      "Position  (1/10 deg) = -100\n",
      "Speed          (rpm) = 0\n",
      "Curent          (mA) = 90\n",
      "Voltage         (mV) = 12097\n",
      "Temperature (1/10 C) = 483\n",
      "\n",
      "Querying LSS...\n",
      "\n",
      "---- Telemetry ----\n",
      "Position  (1/10 deg) = -101\n",
      "Speed          (rpm) = 0\n",
      "Curent          (mA) = 117\n",
      "Voltage         (mV) = 12103\n",
      "Temperature (1/10 C) = 483\n",
      "\n",
      "Querying LSS...\n",
      "\n",
      "---- Telemetry ----\n",
      "Position  (1/10 deg) = -100\n",
      "Speed          (rpm) = 0\n",
      "Curent          (mA) = 146\n",
      "Voltage         (mV) = 12098\n",
      "Temperature (1/10 C) = 483\n",
      "\n",
      "Querying LSS...\n",
      "\n",
      "---- Telemetry ----\n",
      "Position  (1/10 deg) = -100\n",
      "Speed          (rpm) = 0\n",
      "Curent          (mA) = 122\n",
      "Voltage         (mV) = 12109\n",
      "Temperature (1/10 C) = 483\n",
      "\n",
      "Querying LSS...\n",
      "\n",
      "---- Telemetry ----\n",
      "Position  (1/10 deg) = -101\n",
      "Speed          (rpm) = 0\n",
      "Curent          (mA) = 155\n",
      "Voltage         (mV) = 12102\n",
      "Temperature (1/10 C) = 483\n",
      "\n",
      "Querying LSS...\n",
      "\n",
      "---- Telemetry ----\n",
      "Position  (1/10 deg) = -101\n",
      "Speed          (rpm) = 0\n",
      "Curent          (mA) = 85\n",
      "Voltage         (mV) = 12105\n",
      "Temperature (1/10 C) = 483\n"
     ]
    },
    {
     "ename": "KeyboardInterrupt",
     "evalue": "",
     "output_type": "error",
     "traceback": [
      "\u001b[1;31m---------------------------------------------------------------------------\u001b[0m",
      "\u001b[1;31mKeyboardInterrupt\u001b[0m                         Traceback (most recent call last)",
      "\u001b[1;32m<ipython-input-12-7b7fe8793d0d>\u001b[0m in \u001b[0;36m<module>\u001b[1;34m\u001b[0m\n\u001b[0;32m      1\u001b[0m \u001b[1;32mwhile\u001b[0m \u001b[1;36m1\u001b[0m\u001b[1;33m:\u001b[0m\u001b[1;33m\u001b[0m\u001b[1;33m\u001b[0m\u001b[0m\n\u001b[0;32m      2\u001b[0m     \u001b[0mget_status\u001b[0m\u001b[1;33m(\u001b[0m\u001b[0ml_codo\u001b[0m\u001b[1;33m)\u001b[0m\u001b[1;33m\u001b[0m\u001b[1;33m\u001b[0m\u001b[0m\n\u001b[1;32m----> 3\u001b[1;33m     \u001b[0mtime\u001b[0m\u001b[1;33m.\u001b[0m\u001b[0msleep\u001b[0m\u001b[1;33m(\u001b[0m\u001b[1;36m1\u001b[0m\u001b[1;33m)\u001b[0m\u001b[1;33m\u001b[0m\u001b[1;33m\u001b[0m\u001b[0m\n\u001b[0m",
      "\u001b[1;31mKeyboardInterrupt\u001b[0m: "
     ]
    }
   ],
   "source": [
    "while 1:\n",
    "    get_status(l_codo)\n",
    "    time.sleep(1)"
   ]
  },
  {
   "cell_type": "code",
   "execution_count": 40,
   "id": "7948f089",
   "metadata": {},
   "outputs": [
    {
     "data": {
      "text/plain": [
       "True"
      ]
     },
     "execution_count": 40,
     "metadata": {},
     "output_type": "execute_result"
    }
   ],
   "source": [
    "l_codo.move(-101)"
   ]
  },
  {
   "cell_type": "code",
   "execution_count": 38,
   "id": "66a99325",
   "metadata": {},
   "outputs": [
    {
     "data": {
      "text/plain": [
       "True"
      ]
     },
     "execution_count": 38,
     "metadata": {},
     "output_type": "execute_result"
    }
   ],
   "source": [
    "l_muneca.move(200)"
   ]
  },
  {
   "cell_type": "code",
   "execution_count": 61,
   "id": "fe6bef3a",
   "metadata": {},
   "outputs": [
    {
     "data": {
      "text/plain": [
       "-1"
      ]
     },
     "execution_count": 61,
     "metadata": {},
     "output_type": "execute_result"
    }
   ],
   "source": [
    "i=1\n",
    "pow(-1,i)"
   ]
  },
  {
   "cell_type": "code",
   "execution_count": 93,
   "id": "87d04eb2",
   "metadata": {},
   "outputs": [
    {
     "ename": "KeyboardInterrupt",
     "evalue": "",
     "output_type": "error",
     "traceback": [
      "\u001b[1;31m---------------------------------------------------------------------------\u001b[0m",
      "\u001b[1;31mKeyboardInterrupt\u001b[0m                         Traceback (most recent call last)",
      "\u001b[1;32m<ipython-input-93-79d24b715aa7>\u001b[0m in \u001b[0;36m<module>\u001b[1;34m\u001b[0m\n\u001b[0;32m      5\u001b[0m \u001b[1;31m#     l_mano.move(pow(-1,i)*-10)\u001b[0m\u001b[1;33m\u001b[0m\u001b[1;33m\u001b[0m\u001b[1;33m\u001b[0m\u001b[0m\n\u001b[0;32m      6\u001b[0m     \u001b[0mi\u001b[0m\u001b[1;33m=\u001b[0m\u001b[0mi\u001b[0m\u001b[1;33m+\u001b[0m\u001b[1;36m1\u001b[0m\u001b[1;33m\u001b[0m\u001b[1;33m\u001b[0m\u001b[0m\n\u001b[1;32m----> 7\u001b[1;33m     \u001b[0mtime\u001b[0m\u001b[1;33m.\u001b[0m\u001b[0msleep\u001b[0m\u001b[1;33m(\u001b[0m\u001b[1;36m.51\u001b[0m\u001b[1;33m)\u001b[0m\u001b[1;33m\u001b[0m\u001b[1;33m\u001b[0m\u001b[0m\n\u001b[0m",
      "\u001b[1;31mKeyboardInterrupt\u001b[0m: "
     ]
    }
   ],
   "source": [
    "while 1:\n",
    "    l_base.move(pow(-1,i)*-370)\n",
    "    l_hombro.move(pow(-1,i)*-270) #por algún motivo no obedece dos instrucciones seguidas para el mismo lado\n",
    "    \n",
    "#     l_mano.move(pow(-1,i)*-10)\n",
    "    i=i+1\n",
    "    time.sleep(1)"
   ]
  },
  {
   "cell_type": "code",
   "execution_count": 85,
   "id": "8f65097a",
   "metadata": {},
   "outputs": [
    {
     "data": {
      "text/plain": [
       "True"
      ]
     },
     "execution_count": 85,
     "metadata": {},
     "output_type": "execute_result"
    }
   ],
   "source": [
    "l_mano.reset()"
   ]
  },
  {
   "cell_type": "code",
   "execution_count": 76,
   "id": "f4294691",
   "metadata": {},
   "outputs": [
    {
     "data": {
      "text/plain": [
       "True"
      ]
     },
     "execution_count": 76,
     "metadata": {},
     "output_type": "execute_result"
    }
   ],
   "source": [
    "l_base.move(180)"
   ]
  },
  {
   "cell_type": "code",
   "execution_count": 78,
   "id": "3e3a4deb",
   "metadata": {},
   "outputs": [
    {
     "data": {
      "text/plain": [
       "'360'"
      ]
     },
     "execution_count": 78,
     "metadata": {},
     "output_type": "execute_result"
    }
   ],
   "source": [
    "l_base.setGyre()"
   ]
  },
  {
   "cell_type": "code",
   "execution_count": 71,
   "id": "fdda0f31",
   "metadata": {},
   "outputs": [],
   "source": [
    "lss.closeBus()"
   ]
  }
 ],
 "metadata": {
  "jupytext": {
   "formats": "ipynb,py"
  },
  "kernelspec": {
   "display_name": "Python 3",
   "language": "python",
   "name": "python3"
  },
  "language_info": {
   "codemirror_mode": {
    "name": "ipython",
    "version": 3
   },
   "file_extension": ".py",
   "mimetype": "text/x-python",
   "name": "python",
   "nbconvert_exporter": "python",
   "pygments_lexer": "ipython3",
   "version": "3.8.8"
  }
 },
 "nbformat": 4,
 "nbformat_minor": 5
}
