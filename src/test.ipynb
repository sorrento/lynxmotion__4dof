{
 "cells": [
  {
   "cell_type": "code",
   "execution_count": 1,
   "id": "1ea93090",
   "metadata": {},
   "outputs": [],
   "source": [
    "%load_ext autoreload\n",
    "%autoreload 2"
   ]
  },
  {
   "cell_type": "code",
   "execution_count": 11,
   "id": "1b208550",
   "metadata": {
    "lines_to_next_cell": 2
   },
   "outputs": [],
   "source": [
    "import lss\n",
    "import lss_const as lssc\n",
    "import serial"
   ]
  },
  {
   "cell_type": "code",
   "execution_count": 12,
   "id": "49d2448c",
   "metadata": {
    "lines_to_next_cell": 2
   },
   "outputs": [],
   "source": [
    "CST_LSS_Port = \"COM5\"  # For windows platforms\n",
    "CST_LSS_Baud = lssc.LSS_DefaultBaud"
   ]
  },
  {
   "cell_type": "code",
   "execution_count": 13,
   "id": "15225cfa",
   "metadata": {
    "scrolled": false
   },
   "outputs": [
    {
     "ename": "SerialException",
     "evalue": "could not open port 'COM5': PermissionError(13, 'Acceso denegado.', None, 5)",
     "output_type": "error",
     "traceback": [
      "\u001b[1;31m---------------------------------------------------------------------------\u001b[0m",
      "\u001b[1;31mSerialException\u001b[0m                           Traceback (most recent call last)",
      "\u001b[1;32m<ipython-input-13-d271832ac078>\u001b[0m in \u001b[0;36m<module>\u001b[1;34m\u001b[0m\n\u001b[1;32m----> 1\u001b[1;33m \u001b[0mlss\u001b[0m\u001b[1;33m.\u001b[0m\u001b[0minitBus\u001b[0m\u001b[1;33m(\u001b[0m\u001b[0mCST_LSS_Port\u001b[0m\u001b[1;33m,\u001b[0m \u001b[0mCST_LSS_Baud\u001b[0m\u001b[1;33m)\u001b[0m\u001b[1;33m\u001b[0m\u001b[1;33m\u001b[0m\u001b[0m\n\u001b[0m\u001b[0;32m      2\u001b[0m \u001b[1;33m\u001b[0m\u001b[0m\n\u001b[0;32m      3\u001b[0m \u001b[1;31m# Create an LSS object\u001b[0m\u001b[1;33m\u001b[0m\u001b[1;33m\u001b[0m\u001b[1;33m\u001b[0m\u001b[0m\n\u001b[0;32m      4\u001b[0m \u001b[0mmyLSS\u001b[0m \u001b[1;33m=\u001b[0m \u001b[0mlss\u001b[0m\u001b[1;33m.\u001b[0m\u001b[0mLSS\u001b[0m\u001b[1;33m(\u001b[0m\u001b[1;36m1\u001b[0m\u001b[1;33m)\u001b[0m\u001b[1;33m\u001b[0m\u001b[1;33m\u001b[0m\u001b[0m\n",
      "\u001b[1;32m~\\Desktop\\git\\LSS_Library_Python\\src\\lss.py\u001b[0m in \u001b[0;36minitBus\u001b[1;34m(portName, portBaud)\u001b[0m\n\u001b[0;32m     19\u001b[0m \u001b[1;31m### Class functions\u001b[0m\u001b[1;33m\u001b[0m\u001b[1;33m\u001b[0m\u001b[1;33m\u001b[0m\u001b[0m\n\u001b[0;32m     20\u001b[0m \u001b[1;32mdef\u001b[0m \u001b[0minitBus\u001b[0m\u001b[1;33m(\u001b[0m\u001b[0mportName\u001b[0m\u001b[1;33m,\u001b[0m \u001b[0mportBaud\u001b[0m\u001b[1;33m)\u001b[0m\u001b[1;33m:\u001b[0m\u001b[1;33m\u001b[0m\u001b[1;33m\u001b[0m\u001b[0m\n\u001b[1;32m---> 21\u001b[1;33m         \u001b[0mLSS\u001b[0m\u001b[1;33m.\u001b[0m\u001b[0mbus\u001b[0m \u001b[1;33m=\u001b[0m \u001b[0mserial\u001b[0m\u001b[1;33m.\u001b[0m\u001b[0mSerial\u001b[0m\u001b[1;33m(\u001b[0m\u001b[0mportName\u001b[0m\u001b[1;33m,\u001b[0m \u001b[0mportBaud\u001b[0m\u001b[1;33m)\u001b[0m\u001b[1;33m\u001b[0m\u001b[1;33m\u001b[0m\u001b[0m\n\u001b[0m\u001b[0;32m     22\u001b[0m         \u001b[0mLSS\u001b[0m\u001b[1;33m.\u001b[0m\u001b[0mbus\u001b[0m\u001b[1;33m.\u001b[0m\u001b[0mtimeout\u001b[0m \u001b[1;33m=\u001b[0m \u001b[1;36m0.1\u001b[0m\u001b[1;33m\u001b[0m\u001b[1;33m\u001b[0m\u001b[0m\n\u001b[0;32m     23\u001b[0m \u001b[1;33m\u001b[0m\u001b[0m\n",
      "\u001b[1;32m~\\anaconda3\\lib\\site-packages\\serial\\serialwin32.py\u001b[0m in \u001b[0;36m__init__\u001b[1;34m(self, *args, **kwargs)\u001b[0m\n\u001b[0;32m     31\u001b[0m         \u001b[0mself\u001b[0m\u001b[1;33m.\u001b[0m\u001b[0m_overlapped_read\u001b[0m \u001b[1;33m=\u001b[0m \u001b[1;32mNone\u001b[0m\u001b[1;33m\u001b[0m\u001b[1;33m\u001b[0m\u001b[0m\n\u001b[0;32m     32\u001b[0m         \u001b[0mself\u001b[0m\u001b[1;33m.\u001b[0m\u001b[0m_overlapped_write\u001b[0m \u001b[1;33m=\u001b[0m \u001b[1;32mNone\u001b[0m\u001b[1;33m\u001b[0m\u001b[1;33m\u001b[0m\u001b[0m\n\u001b[1;32m---> 33\u001b[1;33m         \u001b[0msuper\u001b[0m\u001b[1;33m(\u001b[0m\u001b[0mSerial\u001b[0m\u001b[1;33m,\u001b[0m \u001b[0mself\u001b[0m\u001b[1;33m)\u001b[0m\u001b[1;33m.\u001b[0m\u001b[0m__init__\u001b[0m\u001b[1;33m(\u001b[0m\u001b[1;33m*\u001b[0m\u001b[0margs\u001b[0m\u001b[1;33m,\u001b[0m \u001b[1;33m**\u001b[0m\u001b[0mkwargs\u001b[0m\u001b[1;33m)\u001b[0m\u001b[1;33m\u001b[0m\u001b[1;33m\u001b[0m\u001b[0m\n\u001b[0m\u001b[0;32m     34\u001b[0m \u001b[1;33m\u001b[0m\u001b[0m\n\u001b[0;32m     35\u001b[0m     \u001b[1;32mdef\u001b[0m \u001b[0mopen\u001b[0m\u001b[1;33m(\u001b[0m\u001b[0mself\u001b[0m\u001b[1;33m)\u001b[0m\u001b[1;33m:\u001b[0m\u001b[1;33m\u001b[0m\u001b[1;33m\u001b[0m\u001b[0m\n",
      "\u001b[1;32m~\\anaconda3\\lib\\site-packages\\serial\\serialutil.py\u001b[0m in \u001b[0;36m__init__\u001b[1;34m(self, port, baudrate, bytesize, parity, stopbits, timeout, xonxoff, rtscts, write_timeout, dsrdtr, inter_byte_timeout, exclusive, **kwargs)\u001b[0m\n\u001b[0;32m    242\u001b[0m \u001b[1;33m\u001b[0m\u001b[0m\n\u001b[0;32m    243\u001b[0m         \u001b[1;32mif\u001b[0m \u001b[0mport\u001b[0m \u001b[1;32mis\u001b[0m \u001b[1;32mnot\u001b[0m \u001b[1;32mNone\u001b[0m\u001b[1;33m:\u001b[0m\u001b[1;33m\u001b[0m\u001b[1;33m\u001b[0m\u001b[0m\n\u001b[1;32m--> 244\u001b[1;33m             \u001b[0mself\u001b[0m\u001b[1;33m.\u001b[0m\u001b[0mopen\u001b[0m\u001b[1;33m(\u001b[0m\u001b[1;33m)\u001b[0m\u001b[1;33m\u001b[0m\u001b[1;33m\u001b[0m\u001b[0m\n\u001b[0m\u001b[0;32m    245\u001b[0m \u001b[1;33m\u001b[0m\u001b[0m\n\u001b[0;32m    246\u001b[0m     \u001b[1;31m#  -  -  -  -  -  -  -  -  -  -  -  -  -  -  -  -  -  -  -  -  -  -  -  -\u001b[0m\u001b[1;33m\u001b[0m\u001b[1;33m\u001b[0m\u001b[1;33m\u001b[0m\u001b[0m\n",
      "\u001b[1;32m~\\anaconda3\\lib\\site-packages\\serial\\serialwin32.py\u001b[0m in \u001b[0;36mopen\u001b[1;34m(self)\u001b[0m\n\u001b[0;32m     62\u001b[0m         \u001b[1;32mif\u001b[0m \u001b[0mself\u001b[0m\u001b[1;33m.\u001b[0m\u001b[0m_port_handle\u001b[0m \u001b[1;33m==\u001b[0m \u001b[0mwin32\u001b[0m\u001b[1;33m.\u001b[0m\u001b[0mINVALID_HANDLE_VALUE\u001b[0m\u001b[1;33m:\u001b[0m\u001b[1;33m\u001b[0m\u001b[1;33m\u001b[0m\u001b[0m\n\u001b[0;32m     63\u001b[0m             \u001b[0mself\u001b[0m\u001b[1;33m.\u001b[0m\u001b[0m_port_handle\u001b[0m \u001b[1;33m=\u001b[0m \u001b[1;32mNone\u001b[0m    \u001b[1;31m# 'cause __del__ is called anyway\u001b[0m\u001b[1;33m\u001b[0m\u001b[1;33m\u001b[0m\u001b[0m\n\u001b[1;32m---> 64\u001b[1;33m             \u001b[1;32mraise\u001b[0m \u001b[0mSerialException\u001b[0m\u001b[1;33m(\u001b[0m\u001b[1;34m\"could not open port {!r}: {!r}\"\u001b[0m\u001b[1;33m.\u001b[0m\u001b[0mformat\u001b[0m\u001b[1;33m(\u001b[0m\u001b[0mself\u001b[0m\u001b[1;33m.\u001b[0m\u001b[0mportstr\u001b[0m\u001b[1;33m,\u001b[0m \u001b[0mctypes\u001b[0m\u001b[1;33m.\u001b[0m\u001b[0mWinError\u001b[0m\u001b[1;33m(\u001b[0m\u001b[1;33m)\u001b[0m\u001b[1;33m)\u001b[0m\u001b[1;33m)\u001b[0m\u001b[1;33m\u001b[0m\u001b[1;33m\u001b[0m\u001b[0m\n\u001b[0m\u001b[0;32m     65\u001b[0m \u001b[1;33m\u001b[0m\u001b[0m\n\u001b[0;32m     66\u001b[0m         \u001b[1;32mtry\u001b[0m\u001b[1;33m:\u001b[0m\u001b[1;33m\u001b[0m\u001b[1;33m\u001b[0m\u001b[0m\n",
      "\u001b[1;31mSerialException\u001b[0m: could not open port 'COM5': PermissionError(13, 'Acceso denegado.', None, 5)"
     ]
    }
   ],
   "source": [
    "lss.initBus(CST_LSS_Port, CST_LSS_Baud)\n",
    "\n",
    "# Create an LSS object\n",
    "myLSS = lss.LSS(1)\n"
   ]
  },
  {
   "cell_type": "code",
   "execution_count": 14,
   "id": "07bfec48",
   "metadata": {
    "scrolled": true
   },
   "outputs": [
    {
     "name": "stdout",
     "output_type": "stream",
     "text": [
      "\n",
      "Querying LSS...\n",
      "\n",
      "---- Telemetry ----\n",
      "Position  (1/10 deg) = -4\n",
      "Speed          (rpm) = 0\n",
      "Curent          (mA) = 84\n",
      "Voltage         (mV) = 12201\n",
      "Temperature (1/10 C) = 460\n",
      "\n",
      "Querying LSS...\n",
      "\n",
      "---- Telemetry ----\n",
      "Position  (1/10 deg) = -4\n",
      "Speed          (rpm) = 0\n",
      "Curent          (mA) = 11\n",
      "Voltage         (mV) = 12201\n",
      "Temperature (1/10 C) = 460\n",
      "\n",
      "Querying LSS...\n",
      "\n",
      "---- Telemetry ----\n",
      "Position  (1/10 deg) = -4\n",
      "Speed          (rpm) = 0\n",
      "Curent          (mA) = 83\n",
      "Voltage         (mV) = 12199\n",
      "Temperature (1/10 C) = 460\n",
      "\n",
      "Querying LSS...\n",
      "\n",
      "---- Telemetry ----\n",
      "Position  (1/10 deg) = -4\n",
      "Speed          (rpm) = 0\n",
      "Curent          (mA) = 63\n",
      "Voltage         (mV) = 12201\n",
      "Temperature (1/10 C) = 460\n",
      "\n",
      "Querying LSS...\n",
      "\n",
      "---- Telemetry ----\n",
      "Position  (1/10 deg) = -4\n",
      "Speed          (rpm) = 0\n",
      "Curent          (mA) = 67\n",
      "Voltage         (mV) = 12198\n",
      "Temperature (1/10 C) = 460\n"
     ]
    },
    {
     "ename": "KeyboardInterrupt",
     "evalue": "",
     "output_type": "error",
     "traceback": [
      "\u001b[1;31m---------------------------------------------------------------------------\u001b[0m",
      "\u001b[1;31mKeyboardInterrupt\u001b[0m                         Traceback (most recent call last)",
      "\u001b[1;32m<ipython-input-14-95dceeb1eebb>\u001b[0m in \u001b[0;36m<module>\u001b[1;34m\u001b[0m\n\u001b[0;32m     18\u001b[0m \u001b[1;33m\u001b[0m\u001b[0m\n\u001b[0;32m     19\u001b[0m     \u001b[1;31m# Wait 1 second\u001b[0m\u001b[1;33m\u001b[0m\u001b[1;33m\u001b[0m\u001b[1;33m\u001b[0m\u001b[0m\n\u001b[1;32m---> 20\u001b[1;33m     \u001b[0mtime\u001b[0m\u001b[1;33m.\u001b[0m\u001b[0msleep\u001b[0m\u001b[1;33m(\u001b[0m\u001b[1;36m1\u001b[0m\u001b[1;33m)\u001b[0m\u001b[1;33m\u001b[0m\u001b[1;33m\u001b[0m\u001b[0m\n\u001b[0m",
      "\u001b[1;31mKeyboardInterrupt\u001b[0m: "
     ]
    }
   ],
   "source": [
    "import time\n",
    "while 1:\n",
    "    # Get the values from LSS\n",
    "    print(\"\\r\\nQuerying LSS...\")\n",
    "    pos = myLSS.getPosition()\n",
    "    rpm = myLSS.getSpeedRPM()\n",
    "    curr = myLSS.getCurrent()\n",
    "    volt = myLSS.getVoltage()\n",
    "    temp = myLSS.getTemperature()\n",
    "\n",
    "    # Display the values in terminal\n",
    "    print(\"\\r\\n---- Telemetry ----\")\n",
    "    print(\"Position  (1/10 deg) = \" + str(pos));\n",
    "    print(\"Speed          (rpm) = \" + str(rpm));\n",
    "    print(\"Curent          (mA) = \" + str(curr));\n",
    "    print(\"Voltage         (mV) = \" + str(volt));\n",
    "    print(\"Temperature (1/10 C) = \" + str(temp));\n",
    "\n",
    "    # Wait 1 second\n",
    "    time.sleep(1)"
   ]
  },
  {
   "cell_type": "code",
   "execution_count": 15,
   "id": "03479e3c",
   "metadata": {},
   "outputs": [
    {
     "data": {
      "text/plain": [
       "'0'"
      ]
     },
     "execution_count": 15,
     "metadata": {},
     "output_type": "execute_result"
    }
   ],
   "source": [
    "myLSS.getColorLED()"
   ]
  },
  {
   "cell_type": "code",
   "execution_count": 16,
   "id": "15788708",
   "metadata": {
    "lines_to_next_cell": 2
   },
   "outputs": [
    {
     "data": {
      "text/plain": [
       "True"
      ]
     },
     "execution_count": 16,
     "metadata": {},
     "output_type": "execute_result"
    }
   ],
   "source": [
    "myLSS.move(0)"
   ]
  },
  {
   "cell_type": "code",
   "execution_count": 17,
   "id": "11f93413",
   "metadata": {},
   "outputs": [
    {
     "data": {
      "text/plain": [
       "True"
      ]
     },
     "execution_count": 17,
     "metadata": {},
     "output_type": "execute_result"
    }
   ],
   "source": [
    "myLSS.move(-1800)"
   ]
  },
  {
   "cell_type": "code",
   "execution_count": 18,
   "id": "c5237ec8",
   "metadata": {},
   "outputs": [
    {
     "data": {
      "text/plain": [
       "True"
      ]
     },
     "execution_count": 18,
     "metadata": {},
     "output_type": "execute_result"
    }
   ],
   "source": [
    "myLSS.move(1800)"
   ]
  },
  {
   "cell_type": "code",
   "execution_count": 20,
   "id": "111a049b",
   "metadata": {},
   "outputs": [],
   "source": [
    "l_codo = lss.LSS(3)"
   ]
  },
  {
   "cell_type": "code",
   "execution_count": 21,
   "id": "7948f089",
   "metadata": {},
   "outputs": [
    {
     "data": {
      "text/plain": [
       "True"
      ]
     },
     "execution_count": 21,
     "metadata": {},
     "output_type": "execute_result"
    }
   ],
   "source": [
    "l_codo.move(-100)"
   ]
  },
  {
   "cell_type": "code",
   "execution_count": 6,
   "id": "413ecb4f",
   "metadata": {},
   "outputs": [],
   "source": [
    "l_muneca=lss.LSS(4)"
   ]
  },
  {
   "cell_type": "code",
   "execution_count": 22,
   "id": "66a99325",
   "metadata": {},
   "outputs": [
    {
     "data": {
      "text/plain": [
       "True"
      ]
     },
     "execution_count": 22,
     "metadata": {},
     "output_type": "execute_result"
    }
   ],
   "source": [
    "l_muneca.move(100)"
   ]
  },
  {
   "cell_type": "code",
   "execution_count": 7,
   "id": "bb74c8bb",
   "metadata": {},
   "outputs": [],
   "source": [
    "l_hombro=lss.LSS(2)"
   ]
  },
  {
   "cell_type": "code",
   "execution_count": 23,
   "id": "87d04eb2",
   "metadata": {
    "scrolled": false
   },
   "outputs": [
    {
     "data": {
      "text/plain": [
       "True"
      ]
     },
     "execution_count": 23,
     "metadata": {},
     "output_type": "execute_result"
    }
   ],
   "source": [
    "l_hombro.move(300)"
   ]
  },
  {
   "cell_type": "code",
   "execution_count": 25,
   "id": "ff9bea1c",
   "metadata": {},
   "outputs": [
    {
     "data": {
      "text/plain": [
       "True"
      ]
     },
     "execution_count": 25,
     "metadata": {},
     "output_type": "execute_result"
    }
   ],
   "source": [
    "l_codo.setColorLED(2)"
   ]
  },
  {
   "cell_type": "code",
   "execution_count": 24,
   "id": "f4294691",
   "metadata": {},
   "outputs": [
    {
     "data": {
      "text/plain": [
       "True"
      ]
     },
     "execution_count": 24,
     "metadata": {},
     "output_type": "execute_result"
    }
   ],
   "source": [
    "l_hombro.setColorLED(1)"
   ]
  },
  {
   "cell_type": "code",
   "execution_count": 9,
   "id": "08849bd5",
   "metadata": {},
   "outputs": [
    {
     "data": {
      "text/plain": [
       "True"
      ]
     },
     "execution_count": 9,
     "metadata": {},
     "output_type": "execute_result"
    }
   ],
   "source": [
    "l_codo.move(-300)\n",
    "l_hombro.move(-300)"
   ]
  },
  {
   "cell_type": "code",
   "execution_count": 10,
   "id": "3b22447e",
   "metadata": {},
   "outputs": [
    {
     "data": {
      "text/plain": [
       "True"
      ]
     },
     "execution_count": 10,
     "metadata": {},
     "output_type": "execute_result"
    }
   ],
   "source": [
    "l_codo.move(-300)"
   ]
  },
  {
   "cell_type": "code",
   "execution_count": 26,
   "id": "5c484799",
   "metadata": {},
   "outputs": [],
   "source": [
    "l_mano=lss.LSS(5)"
   ]
  },
  {
   "cell_type": "code",
   "execution_count": 28,
   "id": "0c079c6b",
   "metadata": {},
   "outputs": [
    {
     "data": {
      "text/plain": [
       "True"
      ]
     },
     "execution_count": 28,
     "metadata": {},
     "output_type": "execute_result"
    }
   ],
   "source": [
    "l_mano.move(-300)"
   ]
  }
 ],
 "metadata": {
  "jupytext": {
   "formats": "ipynb,py"
  },
  "kernelspec": {
   "display_name": "Python 3",
   "language": "python",
   "name": "python3"
  },
  "language_info": {
   "codemirror_mode": {
    "name": "ipython",
    "version": 3
   },
   "file_extension": ".py",
   "mimetype": "text/x-python",
   "name": "python",
   "nbconvert_exporter": "python",
   "pygments_lexer": "ipython3",
   "version": "3.8.8"
  }
 },
 "nbformat": 4,
 "nbformat_minor": 5
}
